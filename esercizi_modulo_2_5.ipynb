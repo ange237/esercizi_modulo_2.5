{
 "cells": [
  {
   "cell_type": "code",
   "execution_count": null,
   "id": "bb1235f7",
   "metadata": {},
   "outputs": [
    {
     "name": "stdout",
     "output_type": "stream",
     "text": [
      "31\n"
     ]
    }
   ],
   "source": [
    "\"\"\"1)Scrivere una funzione che prenda come input il raggio di un cerchio e restituisca l'area del cerchio.\n",
    " Utilizzare il valore di π = 3.14\"\"\"\n",
    "\n",
    "def area_cerchio(raggio:int) -> int:\n",
    "    area = raggio*3.14\n",
    "    return round(area) #arrotondo l'area\n",
    "\n",
    "print(area_cerchio(10))    "
   ]
  },
  {
   "cell_type": "code",
   "execution_count": 5,
   "id": "34460b61",
   "metadata": {},
   "outputs": [
    {
     "name": "stdout",
     "output_type": "stream",
     "text": [
      "16\n"
     ]
    }
   ],
   "source": [
    "\"\"\"2)Scrivere una funzione che prenda come input una lista di numeri e restituisca la somma dei suoi elementi.\"\"\"\n",
    "\n",
    "from functools import reduce\n",
    "\n",
    "def somma_elementi(lista:list) -> int:\n",
    "     return reduce(lambda x,y : x+y,lista)\n",
    "\n",
    "lista_el=[1,0,6,9]\n",
    "print(somma_elementi(lista_el))     "
   ]
  },
  {
   "cell_type": "code",
   "execution_count": 7,
   "id": "c00debe9",
   "metadata": {},
   "outputs": [
    {
     "name": "stdout",
     "output_type": "stream",
     "text": [
      "50\n"
     ]
    }
   ],
   "source": [
    "\"\"\"3)Scrivere una funzione che prenda due argomenti e restituisca la loro somma.\"\"\"\n",
    "\n",
    "def somma(a:int,b:int) -> int:\n",
    "    return a+b\n",
    "\n",
    "print(somma(10,40))"
   ]
  },
  {
   "cell_type": "code",
   "execution_count": 8,
   "id": "39320e0e",
   "metadata": {},
   "outputs": [
    {
     "name": "stdout",
     "output_type": "stream",
     "text": [
      "100\n"
     ]
    }
   ],
   "source": [
    "\"\"\"4)\tDefinire una funzione che prenda un numero come parametro e restituisca il suo quadrato.\"\"\"\n",
    "\n",
    "def quadrato(a:int) -> int:\n",
    "    return a*a\n",
    "print(quadrato(10))"
   ]
  },
  {
   "cell_type": "code",
   "execution_count": 9,
   "id": "5c61fe47",
   "metadata": {},
   "outputs": [
    {
     "name": "stdout",
     "output_type": "stream",
     "text": [
      "4\n"
     ]
    }
   ],
   "source": [
    "\"\"\"5)\tScrivere una funzione che prenda in input una stringa e ne restituisca la lunghezza.\"\"\"\n",
    "\n",
    "def lung(stringa:str) -> int:\n",
    "    return len(stringa)\n",
    "\n",
    "print(lung(\"ange\"))"
   ]
  },
  {
   "cell_type": "code",
   "execution_count": null,
   "id": "f7d6d1e5",
   "metadata": {},
   "outputs": [
    {
     "name": "stdout",
     "output_type": "stream",
     "text": [
      "['ange', 'gabri', 'lorenzo']\n"
     ]
    }
   ],
   "source": [
    "\"\"\"6)Scrivere una funzione che prenda in input una lista di parole e ne restituisca una lista di queste in ordine alfabetico.\"\"\"\n",
    "\n",
    "def ordina_alfabetico(lista:list) -> list:\n",
    "    #lis= lista.sort() non funziona perchè sort è inplace(cioè modifica la lista in place e non ritorna niente)\n",
    "    lis = sorted(lista) \n",
    "    return lis\n",
    "\n",
    "lista_nomi=[\"ange\",\"lorenzo\",\"gabri\"]\n",
    "print(ordina_alfabetico(lista_nomi))"
   ]
  },
  {
   "cell_type": "code",
   "execution_count": 17,
   "id": "3decdbd8",
   "metadata": {},
   "outputs": [
    {
     "name": "stdout",
     "output_type": "stream",
     "text": [
      "[2, 6, 8, 10]\n"
     ]
    }
   ],
   "source": [
    "\"\"\"7)Scrivere una funzione che prenda in input una lista di numeri e ne restituisca una di numeri pari.\"\"\"\n",
    "\n",
    "#from functools import filter\n",
    "\n",
    "def num_pari(lista:list) -> list:\n",
    "    lis=list(filter(lambda x: x%2==0,lista))\n",
    "    return lis\n",
    "\n",
    "lista_num=[1,2,5,6,8,10]\n",
    "print(num_pari(lista_num))"
   ]
  },
  {
   "cell_type": "code",
   "execution_count": null,
   "id": "150aa47f",
   "metadata": {},
   "outputs": [
    {
     "name": "stdout",
     "output_type": "stream",
     "text": [
      "8\n",
      "12\n"
     ]
    }
   ],
   "source": [
    "\"\"\"8)Scrivere una funzione lambda che prenda in input un intero e ne restituisca il suo doppio.\"\"\"\n",
    "\n",
    "x=lambda a: a*2\n",
    "print(x(4))\n",
    "#metodo alternativo\n",
    "print((lambda a: a*2)(6))"
   ]
  },
  {
   "cell_type": "code",
   "execution_count": 22,
   "id": "4a881fc7",
   "metadata": {},
   "outputs": [
    {
     "name": "stdout",
     "output_type": "stream",
     "text": [
      "ANGE BONHEUR\n"
     ]
    }
   ],
   "source": [
    "\"\"\"9)Scrivere una funzione lambda che prenda in input una stringa e restituisca la stessa in maiuscolo.\"\"\"\n",
    "\n",
    "x = lambda a : a.upper()\n",
    "print(x(\"ange bonheur\"))"
   ]
  },
  {
   "cell_type": "code",
   "execution_count": 23,
   "id": "f7f279d3",
   "metadata": {},
   "outputs": [
    {
     "name": "stdout",
     "output_type": "stream",
     "text": [
      "72\n"
     ]
    }
   ],
   "source": [
    "\"\"\"10)Scrivere una funzione lambda che prenda in input due numeri e restituisca il loro prodotto.\"\"\"\n",
    "\n",
    "x= lambda a,b : a*b\n",
    "print(x(8,9))"
   ]
  },
  {
   "cell_type": "code",
   "execution_count": 31,
   "id": "4d9c9905",
   "metadata": {},
   "outputs": [
    {
     "name": "stdout",
     "output_type": "stream",
     "text": [
      "sto effettuando il controllo:\n",
      "numero non maggiore di zero.\n",
      "-1\n",
      "________________________\n",
      "sto effettuando il controllo:\n",
      "120\n"
     ]
    }
   ],
   "source": [
    "\"\"\"11)Scrivere una funzione che calcoli il fattoriale di un numero intero e applica un decoratore per \n",
    "controllare che il numero in input sia maggiore o uguale a zero\"\"\"\n",
    "\n",
    "import math\n",
    "\n",
    "def controlla(funz):\n",
    "    def wrapper(n:int):\n",
    "        print(\"sto effettuando il controllo:\")\n",
    "        if n < 0:\n",
    "            print(\"numero non maggiore di zero.\")\n",
    "            return -1\n",
    "        else:\n",
    "           fat = funz(n)\n",
    "        return fat   # il wrapper deve ritornare il risultato.\n",
    "    return wrapper        \n",
    "\n",
    "@controlla\n",
    "def fattoriale(n:int):\n",
    "     return math.factorial(n)\n",
    "\n",
    "print(fattoriale(-1))\n",
    "print(\"________________________\")\n",
    "print(fattoriale(5))"
   ]
  },
  {
   "cell_type": "code",
   "execution_count": 33,
   "id": "847c7674",
   "metadata": {},
   "outputs": [
    {
     "name": "stdout",
     "output_type": "stream",
     "text": [
      "9.0\n"
     ]
    }
   ],
   "source": [
    "\"\"\"12)Scrivere una funzione che restituisca la somma di due numeri e applichi un decoratore per convertire i numeri in float.\"\"\"\n",
    "\n",
    "def converte_float(funz):\n",
    "    def wrapper(a,b):\n",
    "        a=float(a)\n",
    "        b=float(b)\n",
    "        return funz(a,b)\n",
    "    return wrapper\n",
    "\n",
    "@converte_float\n",
    "def somma(a,b):\n",
    "    return a+b\n",
    "\n",
    "print(somma(3,6))"
   ]
  },
  {
   "cell_type": "code",
   "execution_count": 34,
   "id": "080c9ef4",
   "metadata": {},
   "outputs": [
    {
     "name": "stdout",
     "output_type": "stream",
     "text": [
      "pre ange\n"
     ]
    }
   ],
   "source": [
    "\"\"\"13)Scrivere una funzione che restituisca una stringa e applichi un decoratore per aggiungere un prefisso alla stringa.\"\"\"\n",
    "\n",
    "def prefisso(funz):\n",
    "    def wrapper(stri):\n",
    "        return \"pre \"+ funz(stri)\n",
    "    return wrapper\n",
    "\n",
    "\n",
    "@prefisso\n",
    "def string(stringa:str):\n",
    "    return stringa\n",
    "\n",
    "print(string(\"ange\"))"
   ]
  },
  {
   "cell_type": "code",
   "execution_count": 39,
   "id": "c4725122",
   "metadata": {},
   "outputs": [
    {
     "name": "stdout",
     "output_type": "stream",
     "text": [
      "4\n",
      "10\n",
      "16\n",
      "68\n",
      "32\n"
     ]
    }
   ],
   "source": [
    "\"\"\"14)Scrivere una funzione che applichi un callback ad ogni elemento di una lista.\"\"\"\n",
    "\n",
    "def molt_2(lista:list,callback):\n",
    "    for i in lista:\n",
    "        callback(i)\n",
    "\n",
    "def stamp_2(ele):\n",
    "    print(ele*2)\n",
    "\n",
    "lista=[2,5,8,34,16]\n",
    "molt_2(lista,stamp_2)  "
   ]
  },
  {
   "cell_type": "code",
   "execution_count": 41,
   "id": "7c8c0578",
   "metadata": {},
   "outputs": [
    {
     "name": "stdout",
     "output_type": "stream",
     "text": [
      "--------------------\n",
      "il risultato è :52\n",
      "____________________\n"
     ]
    }
   ],
   "source": [
    "\"\"\"15)Scrivere una funzione che sommi gli elementi di una lista e applichi una funzione di callback al risultato.\"\"\"\n",
    "\n",
    "def somma(lista:list,callback):\n",
    "    som=sum(lista)\n",
    "    callback(som)\n",
    "\n",
    "def stampa(a):\n",
    "    print(\"--------------------\")\n",
    "    print(f\"il risultato è :{a}\")\n",
    "    print(\"____________________\")\n",
    "\n",
    "lista =[3,7,9,10,23]\n",
    "somma(lista,stampa)"
   ]
  },
  {
   "cell_type": "code",
   "execution_count": 43,
   "id": "4a8a282e",
   "metadata": {},
   "outputs": [
    {
     "name": "stdout",
     "output_type": "stream",
     "text": [
      "10\n",
      "24\n",
      "10\n",
      "50\n",
      "48\n"
     ]
    }
   ],
   "source": [
    "\"\"\"16)Scrivere una funzione che applichi un callback ad ogni elemento di una lista e restituisca solo gli elementi per \n",
    "cui il callback restituisce True.\"\"\"\n",
    "\n",
    "def stampa_pari(lista,callback):\n",
    "    for i in lista:\n",
    "        if callback(i) == True:\n",
    "            print(i)\n",
    "\n",
    "def is_primo(a):\n",
    "    return True if a%2 == 0 else False\n",
    "\n",
    "lista =[3,7,9,10,23,24,10,50,48]\n",
    "stampa_pari(lista,is_primo)           "
   ]
  },
  {
   "cell_type": "code",
   "execution_count": 55,
   "id": "c486abb4",
   "metadata": {},
   "outputs": [
    {
     "name": "stdout",
     "output_type": "stream",
     "text": [
      "[<bound method Response.json of <Response [200]>>, <bound method Response.json of <Response [200]>>, <bound method Response.json of <Response [200]>>]\n"
     ]
    }
   ],
   "source": [
    "\"\"\"17)Scrivere un programma che effettui richieste HTTP a più URL in contemporanea, utilizzando asyncio.gather().\"\"\"\n",
    "\n",
    "import asyncio \n",
    "import requests\n",
    "\n",
    "\n",
    "async def richiesta_1():\n",
    "    return  requests.get(\"https://www.youtube.com/\").json\n",
    "\n",
    "async def richiesta_2():\n",
    "    return requests.get(\"https://www.youtube.com/watch?v=fJd0tC9kjZ0&list=TLPQMjQwNDIwMjUViTD9qWamPg&index=2\").json\n",
    "\n",
    "async def richiesta_3():\n",
    "    return requests.get(\"https://www.w3schools.com/python/module_requests.asp\").json\n",
    "\n",
    "\n",
    "async def result():\n",
    "    risultato = await asyncio.gather(richiesta_1(),richiesta_2(),richiesta_3())\n",
    "    print( risultato)\n",
    "    \n",
    "await result()"
   ]
  },
  {
   "cell_type": "code",
   "execution_count": 53,
   "id": "f641916e",
   "metadata": {},
   "outputs": [
    {
     "name": "stdout",
     "output_type": "stream",
     "text": [
      "[\"questo Ã¨ il primo file per l'esercizio 1\\nnon lo prendere sul serio.\\n\", \"questo Ã¨ il secondo file per l'esercizio 18\\nnon lo predere sul serio\\n\"]\n"
     ]
    }
   ],
   "source": [
    "\"\"\"18)Scrivere un programma che effettui la lettura di file in parallelo, sempre utilizzando asyncio.gather().\"\"\"\n",
    "\n",
    "async def lettura_1():\n",
    "    f=open(\"./file_1\",\"r\",1)\n",
    "    righe = \"\"\n",
    "    while True:\n",
    "        riga = f.readline()\n",
    "        if not riga:\n",
    "            break\n",
    "        righe =righe + riga \n",
    "\n",
    "    f.close()    \n",
    "    return righe\n",
    "\n",
    "\n",
    "async def lettura_2():\n",
    "    f=open(\"./file_2\",\"r\",1)\n",
    "    righe = \"\"\n",
    "    while True:\n",
    "        riga = f.readline()\n",
    "        if not riga:\n",
    "            break\n",
    "        righe =righe + riga \n",
    "\n",
    "    f.close()    \n",
    "    return righe\n",
    "\n",
    "\n",
    "async def result():\n",
    "    risultato = await asyncio.gather(lettura_1(),lettura_2())\n",
    "    print( risultato)\n",
    "\n",
    "await result()"
   ]
  },
  {
   "cell_type": "code",
   "execution_count": null,
   "id": "aca72013",
   "metadata": {},
   "outputs": [
    {
     "name": "stdout",
     "output_type": "stream",
     "text": [
      "<bound method Response.json of <Response [200]>>\n"
     ]
    }
   ],
   "source": [
    "\"\"\"19)Scrivere un programma che effettui una richiesta HTTP e che attenda un tempo massimo di cinque secondi per ricevere \n",
    "la risposta utilizzando asyncio.wait_for().\"\"\"\n",
    "import asyncio\n",
    "\n",
    "async def richiesta_1():\n",
    "    return requests.get(\"https://www.youtube.com/\").json\n",
    "\n",
    "\n",
    "result = await  asyncio.wait_for(richiesta_1(), timeout=5)\n",
    "print(result)"
   ]
  },
  {
   "cell_type": "code",
   "execution_count": null,
   "id": "c0f91adf",
   "metadata": {},
   "outputs": [
    {
     "name": "stdout",
     "output_type": "stream",
     "text": [
      "0\n",
      "2\n",
      "4\n",
      "6\n",
      "8\n",
      "10\n",
      "12\n",
      "14\n",
      "[[0, 2, 4, 6], [8, 10, 12, 14]]\n"
     ]
    }
   ],
   "source": [
    "\"\"\"20)Scrivere un programma che effettui l'elaborazione di una lista di elementi in parallelo, utilizzando asyncio.gather().\"\"\"\n",
    "import asyncio\n",
    "\n",
    "lista_elementi = [1,3,6,9,10,45,30,29]\n",
    "\n",
    "async def elabora(lista:list,index_i:int,index_f:int):\n",
    "    list = []\n",
    "    for i in range(index_i,index_f):\n",
    "        list.append(i*2)\n",
    "        print(i*2)\n",
    "    return list    \n",
    "\n",
    "lun = len(lista_elementi)\n",
    "\n",
    "result = await asyncio.gather(elabora(lista_elementi,0,int(lun/2)),elabora(lista_elementi,int(lun/2),lun))\n",
    "\n",
    "print(result)"
   ]
  },
  {
   "cell_type": "code",
   "execution_count": 63,
   "id": "734541f8",
   "metadata": {},
   "outputs": [
    {
     "name": "stdout",
     "output_type": "stream",
     "text": [
      "8\n",
      "10\n",
      "0\n",
      "9\n",
      "10\n",
      "8\n",
      "4\n",
      "5\n",
      "9\n",
      "8\n"
     ]
    }
   ],
   "source": [
    "\"\"\"21)Scrivere un programma che effettui la generazione di numeri casuali in parallelo, utilizzando asyncio.create_task().\"\"\"\n",
    "import random\n",
    "import asyncio\n",
    "\n",
    "async def generate(index:int):\n",
    "    #lista = []\n",
    "    for i in range(index):\n",
    "      n = random.randint(0,10)\n",
    "      print(n)\n",
    "      #lista.append(n)\n",
    "    #return lista  \n",
    "\n",
    "\n",
    "task = asyncio.create_task(generate(10))\n",
    "\n",
    "await (task)"
   ]
  },
  {
   "cell_type": "code",
   "execution_count": 1,
   "id": "c9144d98",
   "metadata": {},
   "outputs": [
    {
     "name": "stdout",
     "output_type": "stream",
     "text": [
      "2\n",
      "5\n",
      "20\n",
      "32\n",
      "30\n",
      "37\n",
      "8\n",
      "9\n",
      "66\n",
      "65\n"
     ]
    }
   ],
   "source": [
    "\"\"\"22)Scrivere un programma che effettui la lettura di dati da una coda di messaggi in modo asincrono utilizzando asyncio.Queue().\"\"\"\n",
    "\n",
    "import asyncio\n",
    "import random\n",
    "\n",
    "queue = asyncio.Queue()\n",
    "\n",
    "#popolo la coda\n",
    "for i in range(10):\n",
    "   n = random.randint(0,10)\n",
    "   await queue.put(i*n+2)\n",
    "\n",
    "async def lettura(q):\n",
    "   for i in range(10):\n",
    "      item = await q.get()\n",
    "      print(item)\n",
    "\n",
    "await lettura(queue)      "
   ]
  },
  {
   "cell_type": "code",
   "execution_count": null,
   "id": "14f5aa82",
   "metadata": {},
   "outputs": [],
   "source": [
    "\"\"\"23)Qual è il valore di ritorno predefinito di una funzione?\"\"\"\n",
    "#è none"
   ]
  },
  {
   "cell_type": "code",
   "execution_count": null,
   "id": "07ca8924",
   "metadata": {},
   "outputs": [],
   "source": [
    "\"\"\"24)Qual è la differenza tra una funzione e un metodo?\"\"\"\n",
    "#la differenza fondamentale è che una funzione puo essere chiamata senza avere bisogno di un oggetto al quale riferirsi mentre un metodo viene applicato ad un oggetto."
   ]
  },
  {
   "cell_type": "code",
   "execution_count": null,
   "id": "543abbcd",
   "metadata": {},
   "outputs": [],
   "source": [
    "\"\"\"25)Qual è il significato di un decoratore in Python?\"\"\"\n",
    "#un decoratore in python è una funzione che riceve un altra funzione come parametro e che puo modificare o aggiungere alcune funzionalita alla funzione di base."
   ]
  },
  {
   "cell_type": "code",
   "execution_count": null,
   "id": "af21ed37",
   "metadata": {},
   "outputs": [],
   "source": [
    "\"\"\"26)Cosa fa il decoratore @staticmethod?\"\"\"\n",
    "#per definire un metodo come statico."
   ]
  },
  {
   "cell_type": "code",
   "execution_count": null,
   "id": "9b90be2e",
   "metadata": {},
   "outputs": [],
   "source": [
    "\"\"\"27)Qual è il principale vantaggio di utilizzare asyncio?\"\"\"\n",
    "#permette di scrivere codice asincrono "
   ]
  },
  {
   "cell_type": "code",
   "execution_count": null,
   "id": "97b6a827",
   "metadata": {},
   "outputs": [],
   "source": [
    "\"\"\"28)Come si definisce una funzione asincrona?\"\"\"\n",
    "# si usa la parola asinc def prima del nome della funzione."
   ]
  },
  {
   "cell_type": "code",
   "execution_count": null,
   "id": "b0e917b1",
   "metadata": {},
   "outputs": [],
   "source": [
    "\"\"\"29)Quale metodo viene utilizzato per eseguire una coroutine in asyncio?\"\"\"\n",
    "#dentro un altro metodo asincrono, si usa la parole await prima di chiamare la funzione asincrona.\n",
    "#se no si usa il metodo run di asyncio( asyncio.run(\"metodo asincrono\"))"
   ]
  },
  {
   "cell_type": "code",
   "execution_count": null,
   "id": "4d85f852",
   "metadata": {},
   "outputs": [],
   "source": [
    "\"\"\"30)Quale è la differenza principale tra le funzioni await e yield from in asyncio?\"\"\"\n",
    "#le funzioni await si riferiscono alla chiamata di funzioni asincrono, mentre quelle yield sono fatti per i generatori "
   ]
  }
 ],
 "metadata": {
  "kernelspec": {
   "display_name": "env",
   "language": "python",
   "name": "python3"
  },
  "language_info": {
   "codemirror_mode": {
    "name": "ipython",
    "version": 3
   },
   "file_extension": ".py",
   "mimetype": "text/x-python",
   "name": "python",
   "nbconvert_exporter": "python",
   "pygments_lexer": "ipython3",
   "version": "3.13.3"
  }
 },
 "nbformat": 4,
 "nbformat_minor": 5
}
